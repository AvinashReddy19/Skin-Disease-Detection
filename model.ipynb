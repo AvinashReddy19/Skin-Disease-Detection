{
 "cells": [
  {
   "cell_type": "code",
   "execution_count": 1,
   "metadata": {},
   "outputs": [],
   "source": [
    "def get_class_names_from_folder(directory):\n",
    "    \"\"\"\n",
    "    Get the classnames from the specified folder.\n",
    "    \"\"\"\n",
    "    import pathlib\n",
    "    import numpy as np\n",
    "\n",
    "    data_dir = pathlib.Path(directory)\n",
    "    class_names = np.array(sorted([item.name for item in data_dir.glob(\"*\")]))  # Created a list of class names\n",
    "    print(class_names)\n",
    "    return class_names"
   ]
  },
  {
   "cell_type": "code",
   "execution_count": 3,
   "metadata": {},
   "outputs": [
    {
     "name": "stdout",
     "output_type": "stream",
     "text": [
      "['Acne and Rosacea Photos'\n",
      " 'Actinic Keratosis Basal Cell Carcinoma and other Malignant Lesions'\n",
      " 'Atopic Dermatitis Photos' 'Bullous Disease Photos']\n",
      "['Acne and Rosacea Photos'\n",
      " 'Actinic Keratosis Basal Cell Carcinoma and other Malignant Lesions'\n",
      " 'Atopic Dermatitis Photos' 'Bullous Disease Photos']\n",
      "<class 'numpy.ndarray'>\n"
     ]
    }
   ],
   "source": [
    "class_names = get_class_names_from_folder(directory=\"test\")\n",
    "print(class_names)\n",
    "print(type(class_names))"
   ]
  },
  {
   "cell_type": "code",
   "execution_count": 4,
   "metadata": {},
   "outputs": [],
   "source": [
    "import matplotlib.pyplot as plt\n",
    "import matplotlib.image as mpimg\n",
    "\n",
    "import os\n",
    "import random\n"
   ]
  },
  {
   "cell_type": "code",
   "execution_count": 5,
   "metadata": {},
   "outputs": [
    {
     "ename": "ModuleNotFoundError",
     "evalue": "No module named 'tensorflow.python'",
     "output_type": "error",
     "traceback": [
      "\u001b[1;31m---------------------------------------------------------------------------\u001b[0m",
      "\u001b[1;31mModuleNotFoundError\u001b[0m                       Traceback (most recent call last)",
      "Cell \u001b[1;32mIn[5], line 1\u001b[0m\n\u001b[1;32m----> 1\u001b[0m \u001b[38;5;28;01mimport\u001b[39;00m \u001b[38;5;21;01mtensorflow\u001b[39;00m \u001b[38;5;28;01mas\u001b[39;00m \u001b[38;5;21;01mtf\u001b[39;00m\n\u001b[0;32m      2\u001b[0m \u001b[38;5;28;01mfrom\u001b[39;00m \u001b[38;5;21;01mtensorflow\u001b[39;00m\u001b[38;5;21;01m.\u001b[39;00m\u001b[38;5;21;01mkeras\u001b[39;00m\u001b[38;5;21;01m.\u001b[39;00m\u001b[38;5;21;01mpreprocessing\u001b[39;00m\u001b[38;5;21;01m.\u001b[39;00m\u001b[38;5;21;01mimage\u001b[39;00m \u001b[38;5;28;01mimport\u001b[39;00m ImageDataGenerator\n\u001b[0;32m      4\u001b[0m train_datagen \u001b[38;5;241m=\u001b[39m ImageDataGenerator(rescale\u001b[38;5;241m=\u001b[39m\u001b[38;5;241m1\u001b[39m\u001b[38;5;241m/\u001b[39m\u001b[38;5;241m255.\u001b[39m)\n",
      "File \u001b[1;32m~\\AppData\\Local\\Packages\\PythonSoftwareFoundation.Python.3.11_qbz5n2kfra8p0\\LocalCache\\local-packages\\Python311\\site-packages\\tensorflow\\__init__.py:37\u001b[0m\n\u001b[0;32m     34\u001b[0m \u001b[38;5;28;01mimport\u001b[39;00m \u001b[38;5;21;01msite\u001b[39;00m \u001b[38;5;28;01mas\u001b[39;00m \u001b[38;5;21;01m_site\u001b[39;00m\n\u001b[0;32m     35\u001b[0m \u001b[38;5;28;01mimport\u001b[39;00m \u001b[38;5;21;01msys\u001b[39;00m \u001b[38;5;28;01mas\u001b[39;00m \u001b[38;5;21;01m_sys\u001b[39;00m\n\u001b[1;32m---> 37\u001b[0m \u001b[38;5;28;01mfrom\u001b[39;00m \u001b[38;5;21;01mtensorflow\u001b[39;00m\u001b[38;5;21;01m.\u001b[39;00m\u001b[38;5;21;01mpython\u001b[39;00m\u001b[38;5;21;01m.\u001b[39;00m\u001b[38;5;21;01mtools\u001b[39;00m \u001b[38;5;28;01mimport\u001b[39;00m module_util \u001b[38;5;28;01mas\u001b[39;00m _module_util\n\u001b[0;32m     38\u001b[0m \u001b[38;5;28;01mfrom\u001b[39;00m \u001b[38;5;21;01mtensorflow\u001b[39;00m\u001b[38;5;21;01m.\u001b[39;00m\u001b[38;5;21;01mpython\u001b[39;00m\u001b[38;5;21;01m.\u001b[39;00m\u001b[38;5;21;01mutil\u001b[39;00m\u001b[38;5;21;01m.\u001b[39;00m\u001b[38;5;21;01mlazy_loader\u001b[39;00m \u001b[38;5;28;01mimport\u001b[39;00m KerasLazyLoader \u001b[38;5;28;01mas\u001b[39;00m _KerasLazyLoader\n\u001b[0;32m     40\u001b[0m \u001b[38;5;66;03m# Make sure code inside the TensorFlow codebase can use tf2.enabled() at import.\u001b[39;00m\n",
      "\u001b[1;31mModuleNotFoundError\u001b[0m: No module named 'tensorflow.python'"
     ]
    }
   ],
   "source": [
    "import tensorflow as tf\n",
    "from tensorflow.keras.preprocessing.image import ImageDataGenerator\n",
    "\n",
    "train_datagen = ImageDataGenerator(rescale=1/255.)\n",
    "test_datagen = ImageDataGenerator(rescale=1/255.)\n",
    "\n",
    "train_data = train_datagen.flow_from_directory(directory=\"train\",\n",
    "                                               target_size=(256, 256),\n",
    "                                               batch_size=32,\n",
    "                                               class_mode=\"categorical\")\n",
    "\n",
    "test_data = test_datagen.flow_from_directory(directory=\"test\",\n",
    "                                             target_size=(256, 256),\n",
    "                                             batch_size=32,\n",
    "                                             class_mode=\"categorical\")\n"
   ]
  },
  {
   "cell_type": "code",
   "execution_count": null,
   "metadata": {},
   "outputs": [],
   "source": [
    "from tensorflow.keras.models import Sequential\n",
    "from tensorflow.keras.layers import Dense, Flatten, Conv2D, MaxPool2D\n",
    "from tensorflow.keras.optimizers import Adam\n",
    "\n",
    "\n"
   ]
  },
  {
   "cell_type": "code",
   "execution_count": null,
   "metadata": {},
   "outputs": [],
   "source": [
    "# Create model\n",
    "model = Sequential([\n",
    "    Conv2D(10, 3, activation=\"relu\", input_shape=(256, 256, 3)),\n",
    "    MaxPool2D(pool_size=2),\n",
    "    Conv2D(10, 3, activation=\"relu\"),\n",
    "    MaxPool2D(pool_size=2),\n",
    "    Flatten(),\n",
    "    Dense(4, activation=\"softmax\")\n",
    "])\n",
    "\n",
    "# Compile the model\n",
    "model.compile(loss=\"categorical_crossentropy\",\n",
    "              optimizer=Adam(),\n",
    "              metrics=[\"accuracy\"])\n"
   ]
  },
  {
   "cell_type": "code",
   "execution_count": null,
   "metadata": {},
   "outputs": [],
   "source": [
    "model.summary()"
   ]
  },
  {
   "cell_type": "code",
   "execution_count": null,
   "metadata": {},
   "outputs": [],
   "source": [
    "model.compile(optimizer='adam',loss='binary_crossentropy',metrics=['accuracy'])"
   ]
  },
  {
   "cell_type": "code",
   "execution_count": null,
   "metadata": {},
   "outputs": [],
   "source": [
    "# Block 1\n",
    "from keras.callbacks import ModelCheckpoint\n",
    "\n",
    "# Define a ModelCheckpoint callback\n",
    "checkpoint = ModelCheckpoint(\"model_checkpoint.h5\", save_best_only=True)\n",
    "\n",
    "# Use the callback during model training\n",
    "history = model.fit(train_data,\n",
    "                    batch_size=32,\n",
    "                    epochs=25,\n",
    "                    steps_per_epoch=len(train_data),\n",
    "                    validation_data=test_data,\n",
    "                    validation_steps=len(test_data),\n",
    "                    callbacks=[checkpoint])\n"
   ]
  },
  {
   "cell_type": "code",
   "execution_count": null,
   "metadata": {},
   "outputs": [],
   "source": [
    "# Block 2\n",
    "model.evaluate(test_data)\n"
   ]
  },
  {
   "cell_type": "code",
   "execution_count": null,
   "metadata": {},
   "outputs": [],
   "source": [
    "# Block 3\n",
    "import tensorflow as tf\n",
    "\n",
    "def load_and_resize_image(filename, size):\n",
    "    try:\n",
    "        # Load image\n",
    "        img = tf.io.read_file(filename)\n",
    "        \n",
    "        # Compile image\n",
    "        img = tf.image.decode_image(img)\n",
    "        img = tf.image.resize(img, [size, size])\n",
    "        img = img / 255.0  # Normalize image\n",
    "\n",
    "        return img\n",
    "    except tf.errors.NotFoundError as e:\n",
    "        print(f\"File not found: {filename}\")\n",
    "        return None\n",
    "\n",
    "# Usage\n",
    "image = load_and_resize_image(\"eu.png\", 256)\n",
    "if image is not None:\n",
    "    image = image[:,:,:3]\n",
    "    pred = model.predict(tf.expand_dims(image, axis=0))\n"
   ]
  },
  {
   "cell_type": "code",
   "execution_count": null,
   "metadata": {},
   "outputs": [],
   "source": [
    "# Block 4\n",
    "import pickle\n",
    "  \n",
    "# Save the trained model as a pickle string.\n",
    "saved_model = pickle.dumps(model)\n"
   ]
  },
  {
   "cell_type": "code",
   "execution_count": null,
   "metadata": {},
   "outputs": [],
   "source": [
    "# Block 5\n",
    "from joblib import Parallel, delayed\n",
    "import joblib\n"
   ]
  },
  {
   "cell_type": "code",
   "execution_count": null,
   "metadata": {},
   "outputs": [],
   "source": [
    "# Block 6\n",
    "joblib.dump(model, 'cnn_terrain_detection_18_09.pkl')\n",
    "  \n",
    "# Load the model from the file\n",
    "knn_from_joblib = joblib.load('cnn_terrain_detection_18_09.pkl')\n"
   ]
  },
  {
   "cell_type": "code",
   "execution_count": null,
   "metadata": {},
   "outputs": [],
   "source": [
    "# Block 8\n",
    "from joblib import Parallel, delayed\n",
    "import joblib\n",
    "import tensorflow as tf\n",
    "import numpy as np\n",
    "import matplotlib.pyplot as plt\n"
   ]
  },
  {
   "cell_type": "code",
   "execution_count": null,
   "metadata": {},
   "outputs": [],
   "source": [
    "# Block 9\n",
    "model = joblib.load('cnn_terrain_detection_18_09.pkl')\n"
   ]
  },
  {
   "cell_type": "code",
   "execution_count": null,
   "metadata": {},
   "outputs": [],
   "source": [
    "# Block 10\n",
    "# Assuming you have the necessary data and context to run this block.\n",
    "pred = model.predict(image)  # or any relevant code for this block\n",
    "plt.imshow(image)  # or any relevant visualization\n",
    "plt.title(\"Bullous Disease Photos\")\n",
    "plt.show()\n"
   ]
  },
  {
   "cell_type": "code",
   "execution_count": null,
   "metadata": {},
   "outputs": [],
   "source": [
    "# Block 10\n",
    "def load_and_resize_image(filename, size):\n",
    "    # Load image\n",
    "    img = tf.io.read_file(filename)\n",
    "    \n",
    "    # Compile image\n",
    "    img = tf.image.decode_image(img)\n",
    "    \n",
    "    # Resize image\n",
    "    img = tf.image.resize(img, [size, size])\n",
    "    \n",
    "    # Scale the tensor\n",
    "    img = img / 255\n",
    "    \n",
    "    return img\n",
    "\n",
    "image = load_and_resize_image(\"efg.jpg\", 256)\n",
    "image = image[:,:,:3]\n",
    "pred = model.predict(tf.expand_dims(image, axis=0))\n",
    "\n",
    "plt.imshow(image)\n",
    "plt.title(class_names[pred[0].argmax()])\n",
    "plt.show()\n"
   ]
  }
 ],
 "metadata": {
  "kernelspec": {
   "display_name": "Python 3",
   "language": "python",
   "name": "python3"
  },
  "language_info": {
   "codemirror_mode": {
    "name": "ipython",
    "version": 3
   },
   "file_extension": ".py",
   "mimetype": "text/x-python",
   "name": "python",
   "nbconvert_exporter": "python",
   "pygments_lexer": "ipython3",
   "version": "3.11.9"
  }
 },
 "nbformat": 4,
 "nbformat_minor": 2
}
